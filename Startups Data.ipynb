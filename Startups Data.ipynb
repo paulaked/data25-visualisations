{
 "cells": [
  {
   "cell_type": "code",
   "execution_count": 1,
   "id": "07d78f50",
   "metadata": {},
   "outputs": [],
   "source": [
    "import numpy as np\n",
    "import pandas as pd"
   ]
  },
  {
   "cell_type": "code",
   "execution_count": null,
   "id": "f34890b1",
   "metadata": {},
   "outputs": [],
   "source": [
    "startup_data = pd.read_csv('C:\\Users\\lizzi\\OneDrive\\Desktop\\Sparta\\'')"
   ]
  }
 ],
 "metadata": {
  "kernelspec": {
   "display_name": "Python 3 (ipykernel)",
   "language": "python",
   "name": "python3"
  },
  "language_info": {
   "codemirror_mode": {
    "name": "ipython",
    "version": 3
   },
   "file_extension": ".py",
   "mimetype": "text/x-python",
   "name": "python",
   "nbconvert_exporter": "python",
   "pygments_lexer": "ipython3",
   "version": "3.10.0"
  }
 },
 "nbformat": 4,
 "nbformat_minor": 5
}
